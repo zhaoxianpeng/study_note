{
 "cells": [
  {
   "cell_type": "markdown",
   "metadata": {},
   "source": [
    "# 逻辑斯特回归模型学习"
   ]
  },
  {
   "cell_type": "markdown",
   "metadata": {},
   "source": [
    "## Sigmoid函数\n",
    "\n",
    "$$g(z)=\\frac{1}{1+e^{-z}}$$\n",
    "## 代价函数\n",
    "\n",
    "$$Cost(h_{\\theta},y)=\\begin{cases}\n",
    "-log(h_{\\theta}(x))  & y=1 \\\\\n",
    "-log(1-h_{\\theta}(x)) & y=0 \n",
    "\\end{cases}$$\n",
    "### 简化代价函数\n",
    "$$J(\\theta)=\\frac{1}{m}\\sum_{i=1}^{m}Cost(h_{\\theta}(x^{(i)}), y^{(y)} \\\\\n",
    "=-\\frac{1}{m}[\\sum_{i=1}^{m}y^{(i)}logh_{\\theta}(x^{(i)}) + (1-y^{(i)})log(1-h_{\\theta}(x^{(i)}))]$$"
   ]
  },
  {
   "cell_type": "markdown",
   "metadata": {},
   "source": [
    "## 代码实现"
   ]
  },
  {
   "cell_type": "code",
   "execution_count": 1,
   "metadata": {},
   "outputs": [
    {
     "data": {
      "image/png": "[encoded data removed]",
      "text/plain": [
       "<matplotlib.figure.Figure at 0x7fac14112588>"
      ]
     },
     "metadata": {},
     "output_type": "display_data"
    }
   ],
   "source": [
    "from numpy import loadtxt, where  \n",
    "from pylab import scatter, show, legend, xlabel, ylabel  \n",
    "\n",
    "data = loadtxt(\"data1.txt\", delimiter=',')\n",
    "\n",
    "\n",
    "X=data[:,0:2]\n",
    "y=data[:,2]\n",
    "\n",
    "pos=where(y == 1)\n",
    "neg=where(y == 0)\n",
    "\n",
    "scatter(X[pos,0], X[pos,1], marker='o', c='b')\n",
    "scatter(X[neg,0], X[neg,1], marker='x', c='r')\n",
    "xlabel('Feature1/Exam 1 score')  \n",
    "ylabel('Feature2/Exam 2 score')  \n",
    "legend(['Fail', 'Pass'])  \n",
    "show()"
   ]
  },
  {
   "cell_type": "markdown",
   "metadata": {},
   "source": [
    "下面我们写好计算sigmoid函数、代价函数、和梯度下降的程序"
   ]
  },
  {
   "cell_type": "code",
   "execution_count": 2,
   "metadata": {
    "collapsed": true
   },
   "outputs": [],
   "source": [
    "def sigmoid(X):\n",
    "    den = 1.0 + e ** (-1.0 * X)\n",
    "    gz = 1.0 / den\n",
    "    return gz\n",
    "\n",
    "def compute_cost(theta,X,y):  \n",
    "    '''''computes cost given predicted and actual values'''  \n",
    "    m = X.shape[0]#number of training examples  \n",
    "    theta = reshape(theta,(len(theta),1))  \n",
    "      \n",
    "    J =(1./m)*(-transpose(y).dot(log(sigmoid(X.dot(theta))))- transpose(1-y).dot(log(1-sigmoid(X.dot(theta)))))  \n",
    "      \n",
    "    grad = transpose((1./m)*transpose(sigmoid(X.dot(theta))- y).dot(X))  \n",
    "    #optimize.fmin expects a single value, so cannot return grad  \n",
    "    return J[0][0]#,grad  \n",
    "\n",
    "def compute_grad(theta, X, y):  \n",
    "    '''''compute gradient'''  \n",
    "    theta.shape =(1,3)  \n",
    "    grad = zeros(3)  \n",
    "    h = sigmoid(X.dot(theta.T))  \n",
    "    delta = h - y  \n",
    "    l = grad.size  \n",
    "    for i in range(l):  \n",
    "        sumdelta = delta.T.dot(X[:, i])  \n",
    "        grad[i]=(1.0/ m)* sumdelta *-1  \n",
    "    theta.shape =(3,)  \n",
    "    return  grad  "
   ]
  }
 ],
 "metadata": {
  "kernelspec": {
   "display_name": "Python 3",
   "language": "python",
   "name": "python3"
  },
  "language_info": {
   "codemirror_mode": {
    "name": "ipython",
    "version": 3
   },
   "file_extension": ".py",
   "mimetype": "text/x-python",
   "name": "python",
   "nbconvert_exporter": "python",
   "pygments_lexer": "ipython3",
   "version": "3.6.3"
  },
  "widgets": {
   "application/vnd.jupyter.widget-state+json": {
    "state": {},
    "version_major": 2,
    "version_minor": 0
   }
  }
 },
 "nbformat": 4,
 "nbformat_minor": 2
}
