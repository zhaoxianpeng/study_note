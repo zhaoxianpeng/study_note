{
 "cells": [
  {
   "cell_type": "code",
   "execution_count": 11,
   "metadata": {
    "ExecuteTime": {
     "end_time": "2019-05-22T06:01:04.927590Z",
     "start_time": "2019-05-22T06:01:04.924855Z"
    }
   },
   "outputs": [],
   "source": [
    "# 导入常用包\n",
    "import pandas as pd\n",
    "import numpy as np\n"
   ]
  },
  {
   "cell_type": "code",
   "execution_count": 24,
   "metadata": {
    "ExecuteTime": {
     "end_time": "2019-05-22T06:29:25.053258Z",
     "start_time": "2019-05-22T06:29:25.043881Z"
    }
   },
   "outputs": [
    {
     "name": "stdout",
     "output_type": "stream",
     "text": [
      "3\n",
      "(2, 3)\n",
      "(3, 4)\n"
     ]
    },
    {
     "data": {
      "text/plain": [
       "(3, 1)"
      ]
     },
     "execution_count": 24,
     "metadata": {},
     "output_type": "execute_result"
    }
   ],
   "source": [
    "\n",
    "class My_ann_impl(object):\n",
    "    def __init__(self, sizes):\n",
    "        \"\"\"\n",
    "        :param sizes: list类型，储存每层神经网络的神经元数目\n",
    "                      譬如说：sizes = [2, 3, 2] 表示输入层有两个神经元、\n",
    "                      隐藏层有3个神经元以及输出层有2个神经元\n",
    "        \"\"\"\n",
    "        self.sizes = sizes\n",
    "        self.num_layers = len(sizes)\n",
    "    \n",
    "        # 除去输入层，随机产生每层中 y 个神经元的 biase 值（0 - 1）\n",
    "        self.biases = [np.random.randn(y, 1) for y in sizes[1:]]\n",
    "        \n",
    "        # 随机产生每条连接线的 weight 值（0 - 1）\n",
    "        self.weights = [np.random.randn(x, y)\n",
    "                        for x, y in zip(sizes[:-1], sizes[1:])]\n",
    "        \n",
    "    def feed_forward(self, X):\n",
    "        \"\"\"\n",
    "        前向传输计算每个神经元的值\n",
    "        :param A: 输入值\n",
    "        :return: 计算后每个神经元的值\n",
    "        \"\"\"\n",
    "        A = X\n",
    "        for b, W in zip(self.biases, self.weights):\n",
    "            # 加权求和以及加上 biase\n",
    "            A = sigmoid(np.dot(W.T, A)+b)\n",
    "        return A\n",
    "    \n",
    "\n",
    "\n",
    "\n",
    "sizes = [2,3,4,5]\n",
    "my_ann = My_ann_impl(sizes)\n",
    "print(len(my_ann.weights))\n",
    "print(my_ann.weights[0].shape)\n",
    "print(my_ann.weights[1].shape)\n",
    "my_ann.biases[0].shape"
   ]
  }
 ],
 "metadata": {
  "kernelspec": {
   "display_name": "Python 3",
   "language": "python",
   "name": "python3"
  },
  "language_info": {
   "codemirror_mode": {
    "name": "ipython",
    "version": 3
   },
   "file_extension": ".py",
   "mimetype": "text/x-python",
   "name": "python",
   "nbconvert_exporter": "python",
   "pygments_lexer": "ipython3",
   "version": "3.7.3"
  }
 },
 "nbformat": 4,
 "nbformat_minor": 2
}
