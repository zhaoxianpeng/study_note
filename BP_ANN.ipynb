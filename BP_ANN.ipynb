{
 "cells": [
  {
   "cell_type": "code",
   "execution_count": 18,
   "metadata": {},
   "outputs": [],
   "source": [
    "import pandas as pd\n",
    "import numpy as np\n"
   ]
  },
  {
   "cell_type": "code",
   "execution_count": 51,
   "metadata": {},
   "outputs": [],
   "source": [
    "# 激活函数\n",
    "\n",
    "def sigmoid(x):\n",
    "    return 1/(1 + np.exp(-x))"
   ]
  },
  {
   "cell_type": "code",
   "execution_count": 38,
   "metadata": {},
   "outputs": [
    {
     "data": {
      "text/plain": [
       "array([[1., 0., 0., ..., 0., 0., 0.],\n",
       "       [0., 1., 0., ..., 0., 0., 0.],\n",
       "       [0., 0., 1., ..., 0., 0., 0.],\n",
       "       ...,\n",
       "       [0., 0., 0., ..., 0., 1., 0.],\n",
       "       [0., 0., 0., ..., 0., 0., 1.],\n",
       "       [0., 0., 0., ..., 0., 1., 0.]])"
      ]
     },
     "execution_count": 38,
     "metadata": {},
     "output_type": "execute_result"
    }
   ],
   "source": [
    "# 加载数据\n",
    "from sklearn import datasets\n",
    "from sklearn.model_selection import train_test_split\n",
    "\n",
    "def load_data():\n",
    "    digits = datasets.load_digits()\n",
    "    return digits\n",
    "\n",
    "digits = datasets.load_digits()\n",
    "X = digits.data\n",
    "y = digits.target\n",
    "classes = np.unique(y).size\n",
    "\n",
    "one_hot_label = np.zeros(shape=(y.shape[0],classes))\n",
    "one_hot_label[np.arange(0,y.shape[0]),y] = 1#\n",
    "\n",
    "X_train, X_test, y_train, y_test = train_test_split(X, one_hot_label, test_size=0.33, random_state=42)\n",
    "# one_hot_label"
   ]
  },
  {
   "cell_type": "code",
   "execution_count": 42,
   "metadata": {},
   "outputs": [
    {
     "data": {
      "text/plain": [
       "{'W1': array([[ 8.10280314e-02,  1.24783597e+00, -7.77244168e-02],\n",
       "        [ 2.54455295e-01, -1.55082761e+00, -1.03597494e+00],\n",
       "        [ 1.79996950e+00,  1.54833137e+00,  9.45122823e-01],\n",
       "        [ 1.42216604e+00, -1.05539304e+00, -1.31428734e+00],\n",
       "        [-1.75340405e-01, -1.54983567e-01, -1.25240002e+00],\n",
       "        [-5.88364536e-01, -1.51618892e+00, -5.24027881e-01],\n",
       "        [-1.13208404e+00, -6.25885575e-02, -1.56622270e+00],\n",
       "        [-2.66662402e-01, -1.23516167e+00, -1.03097963e+00],\n",
       "        [-1.48467299e+00,  5.66645470e-02,  5.70432278e-01],\n",
       "        [-5.20242754e-01,  5.31880099e-01,  1.31593040e+00],\n",
       "        [ 9.42685205e-01, -1.58272169e-01, -2.66777880e-01],\n",
       "        [-2.35406235e-01,  5.01456670e-01,  1.77450462e+00],\n",
       "        [ 2.65130934e+00,  1.06345597e+00,  1.39188820e-01],\n",
       "        [-8.65911363e-01, -7.29078215e-01,  1.75859478e-01],\n",
       "        [ 4.03447479e-01, -7.62266150e-01, -1.59010698e-01],\n",
       "        [ 6.24977266e-01,  4.21946155e-01, -4.10897497e-01],\n",
       "        [-3.27884568e-01, -9.14550805e-02, -2.86005730e-01],\n",
       "        [-1.32924089e+00, -1.78309329e+00,  4.23880863e-01],\n",
       "        [ 5.49392381e-01, -6.98727710e-01,  8.38442934e-01],\n",
       "        [ 2.39177846e+00, -1.91019670e+00,  5.38526879e-02],\n",
       "        [-8.56519240e-01, -1.24691755e-02,  4.25209552e-01],\n",
       "        [ 1.37575539e+00, -3.66231665e-02,  5.43810709e-01],\n",
       "        [ 4.80273869e-01,  1.32881531e+00,  7.73308205e-01],\n",
       "        [ 5.92101151e-01,  7.42295307e-01,  1.75965551e+00],\n",
       "        [-6.32589662e-01, -8.47743269e-02,  2.25528246e-01],\n",
       "        [-5.15896042e-01, -1.36835627e-01,  1.12520705e+00],\n",
       "        [ 5.56795741e-02,  3.65714091e-01, -4.55402964e-01],\n",
       "        [ 2.56957483e-02, -3.30231016e-01, -2.69014836e+00],\n",
       "        [ 1.59500096e+00,  2.25824473e-04, -2.29774113e-01],\n",
       "        [-1.06169364e-01, -7.00957451e-01, -5.22527219e-01],\n",
       "        [-5.19283308e-01, -1.30987826e+00, -5.10671422e-01],\n",
       "        [ 4.24795794e-01,  4.37110947e-01,  1.24986569e+00],\n",
       "        [ 5.12085077e-01, -1.81933612e+00,  2.58787261e-02],\n",
       "        [-8.47815635e-01,  1.27022457e+00,  1.99512268e+00],\n",
       "        [-7.75980129e-01, -6.17925783e-01, -7.34223579e-01],\n",
       "        [ 4.49979505e-01,  1.21570675e-01,  5.16560138e-01],\n",
       "        [-6.45615671e-01, -1.49463984e+00,  1.66445881e+00],\n",
       "        [-1.04884495e+00,  1.82845603e+00, -4.28090798e-01],\n",
       "        [-2.73342796e-03,  1.83664812e+00, -4.74637860e-01],\n",
       "        [ 4.18258757e-01,  6.06907194e-01, -1.02407447e+00],\n",
       "        [ 4.30371522e-01,  1.36127957e+00, -8.70252999e-01],\n",
       "        [ 3.65682165e-01, -1.72256069e-01, -3.18190263e-01],\n",
       "        [-5.16409679e-01, -1.82214406e+00, -7.38509615e-01],\n",
       "        [-6.17375984e-01, -8.00125588e-02, -5.31181270e-01],\n",
       "        [-1.57260191e-01, -3.55135146e-01, -6.31363144e-01],\n",
       "        [-2.42074056e+00, -1.12192568e-01, -1.56992975e+00],\n",
       "        [ 2.66826814e+00,  1.38755371e+00, -1.37356805e+00],\n",
       "        [-5.45042716e-01, -5.61252535e-01,  8.66155752e-01],\n",
       "        [ 5.17641361e-01, -8.39557972e-01,  3.31100440e-01],\n",
       "        [-1.77252726e+00, -3.07623859e-01, -1.33335075e+00],\n",
       "        [-1.12191156e+00, -4.58353715e-01,  9.89386539e-01],\n",
       "        [-3.08603479e-01, -3.03183255e-01,  1.46275769e+00],\n",
       "        [ 3.00118830e-01,  1.71371452e-01,  7.99664779e-01],\n",
       "        [-6.27373529e-01,  2.27153427e+00, -3.06253066e-01],\n",
       "        [-6.11726941e-01, -1.93998158e+00, -2.35177849e-01],\n",
       "        [ 5.43457092e-01, -1.48804044e+00,  1.43220644e+00],\n",
       "        [-1.78557580e+00,  2.69718262e+00, -4.49514477e-01],\n",
       "        [ 1.03327441e+00,  4.78693977e-01,  2.53824906e-01],\n",
       "        [-6.53717225e-01, -1.27474981e+00, -3.03735705e+00],\n",
       "        [ 7.06877169e-01, -1.12424305e+00,  3.72661858e-02],\n",
       "        [-6.60171821e-01, -3.05618375e-01, -1.33060789e+00],\n",
       "        [ 1.11858112e+00,  9.22982161e-02,  7.05985414e-01],\n",
       "        [-1.36095800e-01, -1.38025285e+00,  5.36024817e-03],\n",
       "        [ 1.11199317e+00, -8.57427858e-01, -1.60404164e+00]]),\n",
       " 'W2': array([[ 0.87815794,  0.14910008],\n",
       "        [-1.05398879,  0.12804502],\n",
       "        [-0.87534515,  2.14540782]]),\n",
       " 'W3': array([[-0.10339909, -1.31800178,  1.14614543,  0.06961466, -0.66169851,\n",
       "         -0.91075752, -1.17678818,  0.64658513,  1.16693445,  0.08476657],\n",
       "        [ 2.05877966,  0.97377531, -1.56383751,  0.45118794,  1.52984023,\n",
       "          1.82779364, -0.06685961,  0.08707405, -0.47999896, -0.16337743]])}"
      ]
     },
     "execution_count": 42,
     "metadata": {},
     "output_type": "execute_result"
    }
   ],
   "source": [
    "# 初始化\n",
    "hidden_layer_sizes = (3,2)\n",
    "param={}\n",
    "m = X_train.shape[1]\n",
    "\n",
    "def init_param(m, hidden_layer_sizes, classes):\n",
    "    prev_size = m\n",
    "    for i in range(len(hidden_layer_sizes)):\n",
    "        param['W'+str(i+1)] = np.random.randn(prev_size, hidden_layer_sizes[i])\n",
    "        prev_size = hidden_layer_sizes[i]\n",
    "    \n",
    "    param['W'+str(len(hidden_layer_sizes)+1)] = np.random.randn(prev_size, o)\n",
    "    \n",
    "    return param\n",
    "    \n",
    "    \n",
    "param = init_param(m, hidden_layer_sizes, classes)\n",
    "param"
   ]
  },
  {
   "cell_type": "code",
   "execution_count": 64,
   "metadata": {},
   "outputs": [
    {
     "name": "stdout",
     "output_type": "stream",
     "text": [
      "(64, 3)\n",
      "(64, 1203)\n",
      "(3, 2)\n",
      "(3, 1203)\n",
      "(2, 10)\n",
      "(2, 1203)\n"
     ]
    },
    {
     "data": {
      "text/plain": [
       "(10, 1203)"
      ]
     },
     "execution_count": 64,
     "metadata": {},
     "output_type": "execute_result"
    }
   ],
   "source": [
    "# 正向传播\n",
    "def forward_linear(W, A_prev):\n",
    "    Z = np.dot(W.T, A_prev)\n",
    "    return Z\n",
    "\n",
    "def forward_linear_activation(W, A_prev, activation):\n",
    "    print(W.shape)\n",
    "    print(A_prev.shape)\n",
    "    Z = np.dot(W.T, A_prev)\n",
    "    if activation == 'sigmoid':\n",
    "        A = sigmoid(Z)\n",
    "    else:\n",
    "        A = None\n",
    "    \n",
    "    return Z, A\n",
    "\n",
    "def forward_model(X, parameters):\n",
    "    Z=[]\n",
    "    A=[]\n",
    "    i = 0;\n",
    "    \n",
    "    A_prev = X.T\n",
    "    for k,V in parameters.items():\n",
    "        cur_Z,cur_A = forward_linear_activation(V, A_prev, \"sigmoid\")\n",
    "        Z.append(cur_Z)\n",
    "        A.append(cur_A)\n",
    "        A_prev = cur_A\n",
    "        \n",
    "    return Z, A\n",
    "\n",
    "Z, A = forward_model(X_train, param)\n",
    "\n",
    "output=A[-1]\n",
    "output.shape"
   ]
  },
  {
   "cell_type": "code",
   "execution_count": null,
   "metadata": {},
   "outputs": [],
   "source": [
    "def cost(y_hat, y):\n",
    "    pass"
   ]
  },
  {
   "cell_type": "code",
   "execution_count": null,
   "metadata": {},
   "outputs": [],
   "source": [
    "# 反向传播\n",
    "\n",
    "def sigmoid_backward(Z):\n",
    "    pass\n",
    "\n",
    "def backward_linear_activation(dZ, W, Z, activation):\n",
    "    dZ_prev = np.multiply(np.dot(W, dZ), sigmoid_backward(Z))\n",
    "    dW_prev = np.dot(A_prev, dZ_prev)\n",
    "    \n",
    "    return dZ_prev, dW_prev\n"
   ]
  }
 ],
 "metadata": {
  "kernelspec": {
   "display_name": "Python 3",
   "language": "python",
   "name": "python3"
  },
  "language_info": {
   "codemirror_mode": {
    "name": "ipython",
    "version": 3
   },
   "file_extension": ".py",
   "mimetype": "text/x-python",
   "name": "python",
   "nbconvert_exporter": "python",
   "pygments_lexer": "ipython3",
   "version": "3.7.3"
  }
 },
 "nbformat": 4,
 "nbformat_minor": 2
}
