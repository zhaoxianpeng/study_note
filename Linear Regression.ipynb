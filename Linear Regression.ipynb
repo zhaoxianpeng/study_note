{
 "cells": [
  {
   "cell_type": "markdown",
   "metadata": {},
   "source": [
    "# 线性回归\n",
    "\n",
    "## 符号描述\n",
    "假设有训练数据集$D= \\left \\{(x_1, y_1), (x_2, y_2), \\cdots, (x_m, y_m) \\right \\}$\n",
    "其中第$i^{th}$个样本$x_i$有n个特征，它的特征向量为n维列向量。\n",
    "$$\n",
    "{x}_i = \\begin{pmatrix}\n",
    "x_{i,1} \\\\\n",
    "x_{i,2} \\\\\n",
    "{\\vdots} \\\\\n",
    "x_{i,n} \n",
    "\\end{pmatrix}\n",
    "$$\n",
    "\n",
    "则m个输入样本，输入矩阵为$m \\times n$维的矩阵。\n",
    "$$\n",
    "X = \\begin{pmatrix}\n",
    "(x_1)^T \\\\\n",
    "(x_2)^T \\\\\n",
    "{\\vdots} \\\\\n",
    "(x_m)^T \n",
    "\\end{pmatrix}\n",
    "= \\begin{pmatrix}\n",
    "x_{1,1} & x_{1,2} & \\cdots & x_{1,n} \\\\\n",
    "x_{2,1} & x_{2,2} & \\cdots & x_{2,n} \\\\\n",
    "\\vdots & \\vdots & \\ddots & \\vdots \\\\\n",
    "x_{m,1} & x_{m,2} & \\cdots & x_{m,n}\n",
    "\\end{pmatrix}\n",
    "$$\n",
    "m个输出向量为：\n",
    "$$\n",
    "y = \\begin{pmatrix}\n",
    "y_1 \\\\\n",
    "y_2 \\\\\n",
    "\\vdots \\\\\n",
    "y_m\n",
    "\\end{pmatrix}\n",
    "$$\n",
    "\n",
    "线性回归就是寻求自变量与因变量之间的线性关系，假设函数为：\n",
    "$$\n",
    "h_{\\theta}(x_i) = \\theta_0 + \\theta_1x_{i,1} + \\theta_2x_{i,2} + \\cdots + \\theta_nx_{i,n}\n",
    "$$\n",
    "\n",
    "其中，$\\theta$写成向量形式如：\n",
    "$$\n",
    "\\theta = \\begin{pmatrix}\n",
    "\\theta_0 \\\\\n",
    "\\theta_1 \\\\\n",
    "\\vdots \\\\\n",
    "\\theta_n\n",
    "\\end{pmatrix}\n",
    "$$\n",
    "给向量$x_i$加上元素$x_{i,0} = 1$，则假设函数可以用向量表示为：\n",
    "$$h_{\\theta}(x_i) = \\theta^Tx_i$$\n",
    "全部m个样本输入到$h_{\\theta}$中为：\n",
    "$$h_{\\theta}(X) = \\theta^TX$$\n",
    "\n",
    "其中X为：\n",
    "$$\n",
    "X\n",
    "= \\begin{pmatrix}\n",
    "1 & x_{1,1} & x_{1,2} & \\cdots & x_{1,n} \\\\\n",
    "1 & x_{2,1} & x_{2,2} & \\cdots & x_{2,n} \\\\\n",
    "\\vdots & \\vdots & \\vdots & \\ddots & \\vdots \\\\\n",
    "1 & x_{m,1} & x_{m,2} & \\cdots & x_{m,n}\n",
    "\\end{pmatrix}\n",
    "$$"
   ]
  },
  {
   "cell_type": "markdown",
   "metadata": {},
   "source": [
    "## 建立模型\n",
    "\n",
    "假设第$i^{th}$个样本经过假设函数输出为：\n",
    "$$\n",
    "\\hat{y_i} = h_{\\theta}(x_i)\n",
    "$$\n",
    "线性回归试图学到一个$h_{\\theta}$使得$\\hat{y_i} \\approx y_i$。也就是说使得模型的输出尽可能接近真实值。\n",
    "\n",
    "整个训练集输入到假设函数里面有\n",
    "$$\n",
    "\\hat{y} = h_{\\theta}(X) = X\\theta\n",
    "$$\n",
    "\n",
    "为衡量假设输出与真实输出的误差，需要定义一个损失函数$loss(\\hat{y_i}, y_i)$，它度量了假设输出与真实值之间的损失，这个函数的结果越小表示越接近。\n",
    "通常在回归模型中，常用均方误差作为损失的度量。\n",
    "$$\n",
    "loss(\\hat{y_i}, y_i) = \\left ( \\hat{y_i} - y_i\\right)^2 = \\left ( h_{\\theta}(x_i) - y_i\\right)^2 \n",
    "$$\n",
    "\n",
    "整个训练集上的损失常用代价函数描述，它是关于$\\theta$的函数：\n",
    "$$\n",
    "J(\\theta) = \\frac{1}{2m} \\sum_{i=1}^m loss\\left(\\hat{y_i}, y_i \\right) = \\frac{1}{2m} \\sum_{i=1}^m \\left(\\theta^Tx_i - y_i \\right)^2\n",
    "$$\n",
    "\n",
    "线性模型的目标为求得一组$\\theta$使得$J(\\theta)$最小，用数学语言描述为：\n",
    "$$\\theta^* = \\underset{\\theta}{arg min} J(\\theta)$$"
   ]
  },
  {
   "cell_type": "markdown",
   "metadata": {},
   "source": [
    "## 优化\n",
    "上面建立了数学模型，接下来就要想办法求得以上模型中参数的最优解。\n",
    "###  梯度下降法\n",
    "为什么认为$J(\\theta)$可以用梯度下降法求得全局最优解？\n",
    "因为该函数为凸函数，凸函数可以收敛到全局最优。\n",
    "\n",
    "为什么认为$J(\\theta)$为凸函数？\n",
    "将其展开。\n",
    "$$\n",
    "J(\\theta_0, \\theta_1, \\cdots, \\theta_n) = \\frac{1}{2m} \\sum_{i=1}^m\\left(\\theta_0x_{i,0} + \\theta_1x_{i,1} + \\theta_nx_{i,n} - y_i\\right)^2\n",
    "$$\n",
    "\n",
    "观察上式，$J(\\theta_i)$在固定其他$\\theta$时它是一个关于$\\theta_i$的二次函数。\n",
    "\n",
    "举个例子。"
   ]
  },
  {
   "cell_type": "code",
   "execution_count": 41,
   "metadata": {
    "scrolled": false
   },
   "outputs": [
    {
     "data": {
      "text/plain": [
       "[<matplotlib.lines.Line2D at 0x13ff21ff710>]"
      ]
     },
     "execution_count": 41,
     "metadata": {},
     "output_type": "execute_result"
    },
    {
     "data": {
      "text/plain": [
       "Text(0.5, 0, 'theta 0')"
      ]
     },
     "execution_count": 41,
     "metadata": {},
     "output_type": "execute_result"
    },
    {
     "data": {
      "text/plain": [
       "Text(0, 0.5, 'J(theta)')"
      ]
     },
     "execution_count": 41,
     "metadata": {},
     "output_type": "execute_result"
    },
    {
     "data": {
      "text/plain": [
       "<matplotlib.legend.Legend at 0x13ff2537eb8>"
      ]
     },
     "execution_count": 41,
     "metadata": {},
     "output_type": "execute_result"
    },
    {
     "data": {
      "image/png": "[encoded data removed]",
      "text/plain": [
       "<Figure size 432x288 with 1 Axes>"
      ]
     },
     "metadata": {
      "needs_background": "light"
     },
     "output_type": "display_data"
    }
   ],
   "source": [
    "# 以波士顿房价数据集作为例子\n",
    "import pandas as pd\n",
    "import numpy as np\n",
    "import matplotlib.pyplot as plt\n",
    "%matplotlib inline\n",
    "\n",
    "from sklearn import datasets\n",
    "\n",
    "from IPython.core.interactiveshell import InteractiveShell\n",
    "InteractiveShell.ast_node_interactivity = \"all\"\n",
    "\n",
    "X,y = datasets.load_boston(return_X_y=True)\n",
    "m, n = X.shape\n",
    "\n",
    "theta = np.random.rand(n,1)\n",
    "\n",
    "def compute_cost(theta, X, y):\n",
    "    '''\n",
    "    theta: n * 1\n",
    "    X: m * n\n",
    "    y: m * 1\n",
    "    '''\n",
    "    r = np.dot(X, theta) - y\n",
    "    result = np.dot(r.T, r) / (2*m)\n",
    "    return result[0][0]\n",
    "\n",
    "y = y.reshape(-1, 1)\n",
    "# x = np.linspace(0,10,100)\n",
    "x_range = np.linspace(-100,100,300)\n",
    "y_range = []\n",
    "for x in x_range:\n",
    "    theta[0] = x\n",
    "    y_range.append(compute_cost(theta, X, y))\n",
    "\n",
    "y_range = np.array(y_range)\n",
    "plt.plot(x_range, y_range, label=\"J(theta)\")\n",
    "plt.xlabel(\"theta 0\")\n",
    "plt.ylabel(\"J(theta)\")\n",
    "plt.legend() \n",
    "plt.show()\n"
   ]
  },
  {
   "cell_type": "markdown",
   "metadata": {},
   "source": [
    "上面的图中为固定其他$\\theta$,只变化$\\theta_0$时的$J(\\theta_0)$结果，明显可以看出它是典型的二次函数，有全局最小值。\n"
   ]
  },
  {
   "cell_type": "markdown",
   "metadata": {},
   "source": [
    "求梯度\n",
    "$$\n",
    "\\frac{\\partial J(\\theta)}{\\partial \\theta_k} = \\frac{1}{m} \\sum_{i=1}^m (\\theta^T x_i -y_i) x_{i,k}\n",
    "$$\n",
    "\n",
    "写成向量形式为：\n",
    "$$\n",
    "\\frac{\\partial J(\\theta)}{\\partial \\theta} = X^T(X\\theta -y)\n",
    "$$\n",
    "\n",
    "因此，每次迭代更新$\\theta$的公式为：\n",
    "$$\n",
    "\\theta = \\theta - \\alpha( \\frac{\\partial J(\\theta)}{\\partial \\theta} = \\theta - \\alpha  X^T(X\\theta -y)\n",
    "$$"
   ]
  },
  {
   "cell_type": "code",
   "execution_count": 80,
   "metadata": {},
   "outputs": [
    {
     "data": {
      "text/plain": [
       "12.124517786285605"
      ]
     },
     "execution_count": 80,
     "metadata": {},
     "output_type": "execute_result"
    },
    {
     "data": {
      "text/plain": [
       "array([[ 9.33236812e-01],\n",
       "       [-9.43835567e-02],\n",
       "       [ 5.17531695e-02],\n",
       "       [-1.09617983e-02],\n",
       "       [ 1.39115404e+00],\n",
       "       [ 2.64408146e-01],\n",
       "       [ 5.57053562e+00],\n",
       "       [-5.28666389e-03],\n",
       "       [-9.31576163e-01],\n",
       "       [ 1.83825528e-01],\n",
       "       [-1.06359096e-02],\n",
       "       [-3.80455161e-01],\n",
       "       [ 1.51231562e-02],\n",
       "       [-4.52803009e-01]])"
      ]
     },
     "execution_count": 80,
     "metadata": {},
     "output_type": "execute_result"
    }
   ],
   "source": [
    "# 使用代码实现梯度下降的优化\n",
    "class LR:\n",
    "    def __init__(self, X, y):\n",
    "        self.m = X.shape[0] # 样本数量\n",
    "        self.n = X.shape[1] + 1 # 特征数目\n",
    "        self.X = np.insert(X, 0, values=np.ones(self.m), axis=1)\n",
    "        self.y = y.reshape((-1, 1))\n",
    "        self.theta = np.random.rand(self.n,1)\n",
    "        self.learning_rate = 0.00000001\n",
    "        self.num_iter = 1000000\n",
    "    \n",
    "    def compute_cost(self, theta):\n",
    "        '''\n",
    "        theta: n * 1\n",
    "        X: m * n\n",
    "        y: m * 1\n",
    "        '''\n",
    "        X = self.X\n",
    "        y = self.y\n",
    "        r = np.dot(X, theta) - y\n",
    "        result = np.dot(r.T, r) / (2*m)\n",
    "        return result[0][0]\n",
    "    \n",
    "    def compute_grad(self, theta, X, y):\n",
    "        '''\n",
    "        theta: n * 1\n",
    "        X: m * n\n",
    "        y: m * 1\n",
    "        '''\n",
    "        res = np.dot(X, theta) - y\n",
    "        result = np.dot(X.T, res)\n",
    "        return result\n",
    "\n",
    "    def optimizer(self):\n",
    "        X = self.X\n",
    "        y = self.y\n",
    "        theta = self.theta\n",
    "        learning_rate = self.learning_rate\n",
    "        num_iter = self.num_iter\n",
    "        \n",
    "        \n",
    "        for i in range(num_iter):\n",
    "            grad = compute_grad(theta, X, y)\n",
    "            theta = theta - learning_rate * grad\n",
    "        return theta\n",
    "\n",
    "lr = LR(X, y)\n",
    "\n",
    "theta = lr.optimizer()\n",
    "lr.compute_cost(theta)\n",
    "theta"
   ]
  },
  {
   "cell_type": "markdown",
   "metadata": {},
   "source": [
    "### 矩阵求导法求最优解\n",
    "$$\n",
    "J(\\theta) = \\frac{1}{2m} \\sum_{i=1}^m \\left(\\theta^Tx_i - y_i \\right)^2\n",
    "$$\n",
    "\n",
    "写成矩阵形式\n",
    "$$\n",
    "J(\\theta) = \\frac{1}{2m}(X\\theta -y)^T(X\\theta -y)\n",
    "$$"
   ]
  },
  {
   "cell_type": "markdown",
   "metadata": {},
   "source": [
    "目标函数为连续函数，目标函数取得最小值时$\\theta$一定为目标函数驻点，它的梯度在最优值处一定为0。\n",
    "将$J(\\theta)$展开，前面的系数为常数，对结果无任何影响可以省略掉。\n",
    "$$\n",
    "J(\\theta) = (X\\theta -y)^T(X\\theta - y) = \\theta^TX^TX\\theta - y^TX\\theta - \\theta^TX^Ty + y^Ty\n",
    "$$"
   ]
  },
  {
   "cell_type": "markdown",
   "metadata": {},
   "source": [
    "上式中，其中$ y^TX\\theta$ 和 $\\theta^TX^Ty $都是标量，他们的值应该是相等的，为了后面求导方便，统一写成$\\theta^TX^Ty$，于是.\n",
    "$$\n",
    "J(\\theta) = \\theta^TX^TX\\theta - 2\\theta^TX^Ty + y^Ty\n",
    "$$"
   ]
  },
  {
   "cell_type": "markdown",
   "metadata": {},
   "source": [
    "运用矩阵求导公式得到：\n",
    "$$\n",
    "\\frac{\\partial J(\\theta)}{\\partial \\theta} = X^TX\\theta + (X^TX)^T\\theta - 2X^Ty = 2X^TX\\theta - 2X^Ty\n",
    "$$"
   ]
  },
  {
   "cell_type": "markdown",
   "metadata": {},
   "source": [
    "令梯度等于0\n",
    "$$\n",
    "\\frac{\\partial J(\\theta)}{\\partial \\theta} = 0 \\Rightarrow X^TX\\theta - X^Ty = 0 \\\\ \n",
    "\\Rightarrow  X^TX\\theta = X^Ty\n",
    "$$"
   ]
  },
  {
   "cell_type": "markdown",
   "metadata": {},
   "source": [
    "$X^TX$为$m \\times m$的方阵，如果$X^TX$是可逆的，可以通过两边同时左乘以$(X^TX)^{-1}$来求得$\\theta$，即。\n",
    "$$\n",
    "\\theta = (X^TX)^{-1}X^Ty\n",
    "$$"
   ]
  },
  {
   "cell_type": "code",
   "execution_count": 77,
   "metadata": {},
   "outputs": [
    {
     "data": {
      "text/plain": [
       "10.947415590864596"
      ]
     },
     "execution_count": 77,
     "metadata": {},
     "output_type": "execute_result"
    },
    {
     "data": {
      "text/plain": [
       "array([[ 3.64594884e+01],\n",
       "       [-1.08011358e-01],\n",
       "       [ 4.64204584e-02],\n",
       "       [ 2.05586264e-02],\n",
       "       [ 2.68673382e+00],\n",
       "       [-1.77666112e+01],\n",
       "       [ 3.80986521e+00],\n",
       "       [ 6.92224640e-04],\n",
       "       [-1.47556685e+00],\n",
       "       [ 3.06049479e-01],\n",
       "       [-1.23345939e-02],\n",
       "       [-9.52747232e-01],\n",
       "       [ 9.31168327e-03],\n",
       "       [-5.24758378e-01]])"
      ]
     },
     "execution_count": 77,
     "metadata": {},
     "output_type": "execute_result"
    }
   ],
   "source": [
    "#代码实现\n",
    "\n",
    "class LR2:\n",
    "    def __init__(self, X, y):\n",
    "        self.m = X.shape[0] # 样本数量\n",
    "        self.n = X.shape[1] + 1 # 特征数目\n",
    "        self.X = np.insert(X, 0, values=np.ones(self.m), axis=1)\n",
    "        self.y = y.reshape((-1, 1))\n",
    "        \n",
    "    def normal_equation(self):\n",
    "        X = self.X\n",
    "        y = self.y\n",
    "        theta = np.dot(np.dot(np.linalg.inv(np.dot(X.T, X)), X.T), y)\n",
    "        return theta\n",
    "    \n",
    "    def compute_cost(self, theta):\n",
    "        '''\n",
    "        theta: n * 1\n",
    "        X: m * n\n",
    "        y: m * 1\n",
    "        '''\n",
    "        X = self.X\n",
    "        y = self.y\n",
    "        \n",
    "        r = np.dot(X, theta) - y\n",
    "        result = np.dot(r.T, r) / (2*m)\n",
    "        return result[0][0]\n",
    "\n",
    "    \n",
    "lr = LR2(X, y)\n",
    "theta = lr.normal_equation()\n",
    "lr.compute_cost(theta)\n",
    "theta"
   ]
  },
  {
   "cell_type": "code",
   "execution_count": 79,
   "metadata": {},
   "outputs": [
    {
     "data": {
      "text/plain": [
       "LinearRegression(copy_X=True, fit_intercept=True, n_jobs=None,\n",
       "         normalize=False)"
      ]
     },
     "execution_count": 79,
     "metadata": {},
     "output_type": "execute_result"
    },
    {
     "data": {
      "text/plain": [
       "array([[-1.08011358e-01,  4.64204584e-02,  2.05586264e-02,\n",
       "         2.68673382e+00, -1.77666112e+01,  3.80986521e+00,\n",
       "         6.92224640e-04, -1.47556685e+00,  3.06049479e-01,\n",
       "        -1.23345939e-02, -9.52747232e-01,  9.31168327e-03,\n",
       "        -5.24758378e-01]])"
      ]
     },
     "execution_count": 79,
     "metadata": {},
     "output_type": "execute_result"
    },
    {
     "data": {
      "text/plain": [
       "array([36.45948839])"
      ]
     },
     "execution_count": 79,
     "metadata": {},
     "output_type": "execute_result"
    }
   ],
   "source": [
    "# 与sklearn的结果比较\n",
    "\n",
    "from sklearn.linear_model import LinearRegression\n",
    "\n",
    "lr = LinearRegression()\n",
    "lr.fit(X, y)\n",
    "lr.coef_\n",
    "lr.intercept_\n"
   ]
  },
  {
   "cell_type": "markdown",
   "metadata": {},
   "source": [
    "从上面代码运行的结果来看，用矩阵求导法求出来的最优解与sklearn求出来的一样，结果比用梯度下降要好。"
   ]
  },
  {
   "cell_type": "markdown",
   "metadata": {},
   "source": [
    "## 概率上的意义\n",
    "为什么在线性回归中选择均方误差作为损失函数是可行的，因为它有着概率上的意义。\n",
    "### 中心极限定理\n",
    "\n",
    "**当样本量N逐渐趋于无穷大时，N个抽样样本的均值的频数逐渐趋于正态分布**，其对原总体的分布不做任何要求，意味着无论总体是什么分布，其抽样样本的均值的频数的分布都随着抽样数的增多而趋于正态分布。\n"
   ]
  },
  {
   "cell_type": "markdown",
   "metadata": {},
   "source": [
    "### 用极大似然估计解释最小二乘法\n",
    "对于给定输入样本$x$, 我们得到预测值$\\hat{y}$与真实值$y$之间存在误差$\\epsilon$，即。\n",
    "$$\n",
    "y = \\hat{y} + \\epsilon\n",
    "$$\n",
    "对m个输入样本有m个$\\epsilon$，它们是独立同分布的。\n",
    "根据中心极限定理，由于误差项是好多好多相互独立的因素影响的综合影响，我们有理由假设其服从高斯分布，并且它们的均值为0，方差为某定值$\\sigma$.\n",
    "$$\n",
    "\\epsilon \\sim N(0, \\sigma^2)\n",
    "$$\n",
    "\n",
    "因此有\n",
    "$$\n",
    "(y-\\widehat{y}) \\sim N(0, \\sigma^2) \\\\\n",
    "=> y \\sim N(\\widehat{y}, \\sigma^2) \n",
    "$$\n",
    "\n",
    "其中\n",
    "$$\n",
    "\\hat{y} = h_{\\theta}(x) = \\theta^Tx\n",
    "$$\n",
    "\n",
    "即\n",
    "$$\n",
    "P(y|x; \\theta) = \\frac{1}{\\sqrt{2\\pi \\sigma^2}}exp(-\\frac{(y-\\theta^Tx)^2}{2\\sigma^2})\n",
    "$$\n",
    "\n"
   ]
  },
  {
   "cell_type": "markdown",
   "metadata": {},
   "source": [
    "已知m个$y$服从正太分布，并且这m个$y$真实出现了，那么什么样的参数会使得这m个$y$出现的概率最大呢？这可以用极大似然估计来求解。似然函数为：\n",
    "$$\n",
    "L(\\theta) = \\prod_{i=1}^mP(y_i|x_i;\\theta) = \\prod_{i=1}^m \\frac{1}{\\sqrt{2\\pi \\sigma^2}}exp(-\\frac{(y_i-\\theta^Tx_i)^2}{2\\sigma^2})\n",
    "$$"
   ]
  },
  {
   "cell_type": "markdown",
   "metadata": {},
   "source": [
    "两边取对数得：\n",
    "$$\n",
    "l(\\theta) = logL(\\theta) = \\sum_{i=1}^mlog\\left( \\frac{1}{\\sqrt{2\\pi \\sigma^2}}exp(-\\frac{(y_i-\\theta^Tx_i)^2}{2\\sigma^2}) \\right) \\\\\n",
    "= \\sum_{i=1}^m \\left( log\\frac{1}{\\sqrt{2\\pi \\sigma^2}} + log exp(-\\frac{(y_i-\\theta^Tx_i)^2}{2\\sigma^2})  \\right) \\\\\n",
    "= m log\\frac{1}{\\sqrt{2\\pi \\sigma^2}} - \\sum_{i=1}^m \\frac{(y_i-\\theta^Tx_i)^2}{2\\sigma^2}\n",
    "$$"
   ]
  },
  {
   "cell_type": "markdown",
   "metadata": {},
   "source": [
    "观察$l(\\theta0$，式子中$\\sigma$为定值，因此，要想最大化$l(\\theta)$就是要使$\\sum_{i=1}^m(y_i - \\theta^Tx_i)^2$最小，这与我们最小二乘法中损失函数采用均方误差一致。"
   ]
  },
  {
   "cell_type": "markdown",
   "metadata": {},
   "source": [
    "## 扩展\n",
    "### 正则化\n",
    "#### L2-norm Ridge回归\n",
    "#### L1-norm Lasso回归\n"
   ]
  },
  {
   "cell_type": "markdown",
   "metadata": {},
   "source": []
  }
 ],
 "metadata": {
  "kernelspec": {
   "display_name": "Python 3",
   "language": "python",
   "name": "python3"
  },
  "language_info": {
   "codemirror_mode": {
    "name": "ipython",
    "version": 3
   },
   "file_extension": ".py",
   "mimetype": "text/x-python",
   "name": "python",
   "nbconvert_exporter": "python",
   "pygments_lexer": "ipython3",
   "version": "3.7.3"
  }
 },
 "nbformat": 4,
 "nbformat_minor": 2
}
